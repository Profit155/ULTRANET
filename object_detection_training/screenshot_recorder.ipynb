{
 "cells": [
  {
   "cell_type": "code",
   "execution_count": 1,
   "metadata": {},
   "outputs": [],
   "source": [
    "# this file captures your main screen (if multiple displays) at a certain \"screenshot_per_second\" and dumps all the images into a folder\n",
    "# might be useful for making the material that the dataset generator will work with"
   ]
  },
  {
   "cell_type": "code",
   "execution_count": 2,
   "metadata": {},
   "outputs": [],
   "source": [
    "import pyautogui\n",
    "import os\n",
    "import keyboard as keyboard\n",
    "import time\n",
    "from tqdm import tqdm\n",
    "import threading"
   ]
  },
  {
   "cell_type": "code",
   "execution_count": 3,
   "metadata": {},
   "outputs": [],
   "source": [
    "# recording settings\n",
    "num_of_screenshots = 5000\n",
    "screenshots_per_sec = 0\n",
    "\n",
    "# save setttings\n",
    "save_directory = fr\"C:\\Users\\user\\Desktop\\GIT_SYNC\\training\\audo_generated_dataset_materials\\cum\"\n",
    "\n",
    "# \"backend\" vars\n",
    "interscreenshot_time = 0#1 / screenshots_per_sec # convert frames per second ---> time between each frame"
   ]
  },
  {
   "cell_type": "code",
   "execution_count": 4,
   "metadata": {},
   "outputs": [],
   "source": [
    "# function puts png file of ur screen in specified directory\n",
    "def take_screenshot(directory, filename):\n",
    "    screenshot = pyautogui.screenshot()\n",
    "    \n",
    "    if not os.path.exists(directory):\n",
    "        os.makedirs(directory)\n",
    "    \n",
    "    filepath = os.path.join(directory, filename)\n",
    "    screenshot.save(filepath)"
   ]
  },
  {
   "cell_type": "code",
   "execution_count": 5,
   "metadata": {},
   "outputs": [
    {
     "name": "stdout",
     "output_type": "stream",
     "text": [
      "you are about to record a dataset with the following paramers:\n",
      "\n",
      "      NUM OF SCREENSHOTS     --->    5000\n",
      "      FPS                    --->    0\n",
      "      DIRECTORY              --->    C:\\Users\\user\\Desktop\\GIT_SYNC\\training\\audo_generated_dataset_materials\\cum\n",
      "      TIME EST               --->    5000 x 0 = 0.00min\n",
      "      \n"
     ]
    }
   ],
   "source": [
    "print(f\"you are about to record a dataset with the following paramers:\")\n",
    "print(f\"\"\"\n",
    "      NUM OF SCREENSHOTS     --->    {num_of_screenshots}\n",
    "      FPS                    --->    {screenshots_per_sec}\n",
    "      DIRECTORY              --->    {save_directory}\n",
    "      TIME EST               --->    {num_of_screenshots} x {interscreenshot_time} = {num_of_screenshots * interscreenshot_time / 60:.2f}min\n",
    "      \"\"\")\n",
    "\n",
    "#if len(os.listdir(save_directory)) > 0:\n",
    "#    raise ZeroDivisionError(\"folder not empty, continuing might delete sys32\")\n",
    "\n",
    "if input(\"confirm [ Y / N ]: \").lower() != \"y\":\n",
    "    raise UserWarning(\"user said no\")\n",
    "\n",
    "time.sleep(3)\n",
    "\n",
    "def skibidi_thread(start, num_of_screenshots):\n",
    "    for x in range(num_of_screenshots):\n",
    "        take_screenshot(save_directory, f\"{x+start}.png\")\n",
    "        time.sleep(interscreenshot_time)"
   ]
  },
  {
   "cell_type": "code",
   "execution_count": 6,
   "metadata": {},
   "outputs": [],
   "source": [
    "def create_workers(num_of_screenshots, num_workers):\n",
    "    individual_tasks = int(num_of_screenshots / num_workers)\n",
    "    worker_threads = []\n",
    "    \n",
    "    for current_worker in range(num_workers):\n",
    "        worker_thread = threading.Thread(target=skibidi_thread, args=(individual_tasks, current_worker * individual_tasks))\n",
    "        worker_threads.append(worker_thread)\n",
    "    \n",
    "    return worker_threads"
   ]
  },
  {
   "cell_type": "code",
   "execution_count": 7,
   "metadata": {},
   "outputs": [],
   "source": [
    "workers = create_workers(5000, 32)"
   ]
  },
  {
   "cell_type": "code",
   "execution_count": 8,
   "metadata": {},
   "outputs": [
    {
     "name": "stderr",
     "output_type": "stream",
     "text": [
      "100%|██████████| 32/32 [00:01<00:00, 31.26it/s]\n"
     ]
    }
   ],
   "source": [
    "for x in tqdm(workers):\n",
    "    x.start()"
   ]
  },
  {
   "cell_type": "code",
   "execution_count": null,
   "metadata": {},
   "outputs": [],
   "source": []
  }
 ],
 "metadata": {
  "kernelspec": {
   "display_name": "MAIN_CONDA_VENV",
   "language": "python",
   "name": "python3"
  },
  "language_info": {
   "codemirror_mode": {
    "name": "ipython",
    "version": 3
   },
   "file_extension": ".py",
   "mimetype": "text/x-python",
   "name": "python",
   "nbconvert_exporter": "python",
   "pygments_lexer": "ipython3",
   "version": "3.11.7"
  }
 },
 "nbformat": 4,
 "nbformat_minor": 2
}
